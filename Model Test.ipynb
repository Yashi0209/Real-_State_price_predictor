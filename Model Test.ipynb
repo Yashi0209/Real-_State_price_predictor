{
 "cells": [
  {
   "cell_type": "code",
   "execution_count": 2,
   "id": "88998c33",
   "metadata": {},
   "outputs": [],
   "source": [
    "from joblib import dump, load\n",
    "import numpy as np\n",
    "model = load('Yashi.joblib')"
   ]
  },
  {
   "cell_type": "code",
   "execution_count": 5,
   "id": "7c0ca5fd",
   "metadata": {},
   "outputs": [
    {
     "data": {
      "text/plain": [
       "array([2.97])"
      ]
     },
     "execution_count": 5,
     "metadata": {},
     "output_type": "execute_result"
    }
   ],
   "source": [
    "input = np.array([[-0.52639743, -8.73071545, -0.56488665, -0.92282654, -0.81003765]])\n",
    "model.predict(input)\n"
   ]
  },
  {
   "cell_type": "code",
   "execution_count": null,
   "id": "364c8fd9",
   "metadata": {},
   "outputs": [],
   "source": []
  }
 ],
 "metadata": {
  "kernelspec": {
   "display_name": "Python 3",
   "language": "python",
   "name": "python3"
  },
  "language_info": {
   "codemirror_mode": {
    "name": "ipython",
    "version": 3
   },
   "file_extension": ".py",
   "mimetype": "text/x-python",
   "name": "python",
   "nbconvert_exporter": "python",
   "pygments_lexer": "ipython3",
   "version": "3.9.3"
  }
 },
 "nbformat": 4,
 "nbformat_minor": 5
}
